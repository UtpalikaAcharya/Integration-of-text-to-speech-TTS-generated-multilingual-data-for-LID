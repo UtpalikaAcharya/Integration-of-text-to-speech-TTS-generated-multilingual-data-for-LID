{
  "nbformat": 4,
  "nbformat_minor": 0,
  "metadata": {
    "colab": {
      "provenance": [],
      "gpuType": "T4",
      "include_colab_link": true
    },
    "kernelspec": {
      "name": "python3",
      "display_name": "Python 3"
    },
    "language_info": {
      "name": "python"
    },
    "accelerator": "GPU"
  },
  "cells": [
    {
      "cell_type": "markdown",
      "metadata": {
        "id": "view-in-github",
        "colab_type": "text"
      },
      "source": [
        "<a href=\"https://colab.research.google.com/github/UtpalikaAcharya/Integration-of-text-to-speech-TTS-generated-multilingual-data-for-LID/blob/main/Transcriptions_Whisper.ipynb\" target=\"_parent\"><img src=\"https://colab.research.google.com/assets/colab-badge.svg\" alt=\"Open In Colab\"/></a>"
      ]
    },
    {
      "cell_type": "code",
      "execution_count": null,
      "metadata": {
        "id": "AVwMXhIMbVKe",
        "colab": {
          "base_uri": "https://localhost:8080/"
        },
        "outputId": "34ac09d8-1f23-4223-fd12-163bbf321651"
      },
      "outputs": [
        {
          "output_type": "stream",
          "name": "stdout",
          "text": [
            "ls: cannot access '/content/drive/My Drive/': No such file or directory\n",
            "Mounted at /content/drive\n"
          ]
        }
      ],
      "source": [
        "!ls /content/drive/'My Drive'/\n",
        "from google.colab import drive\n",
        "drive.mount('/content/drive')\n"
      ]
    },
    {
      "cell_type": "code",
      "source": [
        "!ls \"/content/drive/MyDrive/selected language audio\"\n"
      ],
      "metadata": {
        "colab": {
          "base_uri": "https://localhost:8080/"
        },
        "id": "fjT5I1_ehjz-",
        "outputId": "601fa01a-0f6f-4cc7-f15e-a025858c903c"
      },
      "execution_count": null,
      "outputs": [
        {
          "output_type": "stream",
          "name": "stdout",
          "text": [
            "ls: cannot access '/content/drive/MyDrive/selected language audio': No such file or directory\n"
          ]
        }
      ]
    },
    {
      "cell_type": "code",
      "source": [
        "!pip install -q openai-whisper\n",
        "!sudo apt-get install -y ffmpeg\n"
      ],
      "metadata": {
        "colab": {
          "base_uri": "https://localhost:8080/"
        },
        "id": "vBMyVdVKd2cz",
        "outputId": "aa905c97-fa28-4ddb-b8a1-2aa158bb9200"
      },
      "execution_count": null,
      "outputs": [
        {
          "output_type": "stream",
          "name": "stdout",
          "text": [
            "\u001b[?25l     \u001b[90m━━━━━━━━━━━━━━━━━━━━━━━━━━━━━━━━━━━━━━━━\u001b[0m \u001b[32m0.0/800.5 kB\u001b[0m \u001b[31m?\u001b[0m eta \u001b[36m-:--:--\u001b[0m\r\u001b[2K     \u001b[91m━━━━━━━━━━━━━━━━━━━━━━━━━━━━━━━━━━━━\u001b[0m\u001b[90m╺\u001b[0m\u001b[90m━━━\u001b[0m \u001b[32m727.0/800.5 kB\u001b[0m \u001b[31m21.6 MB/s\u001b[0m eta \u001b[36m0:00:01\u001b[0m\r\u001b[2K     \u001b[90m━━━━━━━━━━━━━━━━━━━━━━━━━━━━━━━━━━━━━━━━\u001b[0m \u001b[32m800.5/800.5 kB\u001b[0m \u001b[31m17.0 MB/s\u001b[0m eta \u001b[36m0:00:00\u001b[0m\n",
            "\u001b[?25h  Installing build dependencies ... \u001b[?25l\u001b[?25hdone\n",
            "  Getting requirements to build wheel ... \u001b[?25l\u001b[?25hcanceled\n",
            "\u001b[31mERROR: Operation cancelled by user\u001b[0m\u001b[31m\n",
            "Reading package lists... Done\n",
            "Building dependency tree... Done\n",
            "Reading state information... Done\n",
            "ffmpeg is already the newest version (7:4.4.2-0ubuntu0.22.04.1).\n",
            "0 upgraded, 0 newly installed, 0 to remove and 19 not upgraded.\n"
          ]
        }
      ]
    },
    {
      "cell_type": "code",
      "source": [
        "import whisper\n",
        "import os"
      ],
      "metadata": {
        "id": "HmPp2oBSd9ED",
        "colab": {
          "base_uri": "https://localhost:8080/",
          "height": 332
        },
        "outputId": "5480f1c8-21d3-43b9-ace0-e062a6f909e3"
      },
      "execution_count": null,
      "outputs": [
        {
          "output_type": "error",
          "ename": "ModuleNotFoundError",
          "evalue": "No module named 'whisper'",
          "traceback": [
            "\u001b[0;31m---------------------------------------------------------------------------\u001b[0m",
            "\u001b[0;31mModuleNotFoundError\u001b[0m                       Traceback (most recent call last)",
            "\u001b[0;32m<ipython-input-4-d9a57226b88e>\u001b[0m in \u001b[0;36m<cell line: 0>\u001b[0;34m()\u001b[0m\n\u001b[0;32m----> 1\u001b[0;31m \u001b[0;32mimport\u001b[0m \u001b[0mwhisper\u001b[0m\u001b[0;34m\u001b[0m\u001b[0;34m\u001b[0m\u001b[0m\n\u001b[0m\u001b[1;32m      2\u001b[0m \u001b[0;32mimport\u001b[0m \u001b[0mos\u001b[0m\u001b[0;34m\u001b[0m\u001b[0;34m\u001b[0m\u001b[0m\n",
            "\u001b[0;31mModuleNotFoundError\u001b[0m: No module named 'whisper'",
            "",
            "\u001b[0;31m---------------------------------------------------------------------------\u001b[0;32m\nNOTE: If your import is failing due to a missing package, you can\nmanually install dependencies using either !pip or !apt.\n\nTo view examples of installing some common dependencies, click the\n\"Open Examples\" button below.\n\u001b[0;31m---------------------------------------------------------------------------\u001b[0m\n"
          ],
          "errorDetails": {
            "actions": [
              {
                "action": "open_url",
                "actionText": "Open Examples",
                "url": "/notebooks/snippets/importing_libraries.ipynb"
              }
            ]
          }
        }
      ]
    },
    {
      "cell_type": "code",
      "source": [
        "model = whisper.load_model(\"medium\")"
      ],
      "metadata": {
        "id": "uhncaXImeC_y"
      },
      "execution_count": null,
      "outputs": []
    },
    {
      "cell_type": "code",
      "source": [
        "# Correct base folder path\n",
        "base_folder = \"/content/drive/MyDrive/selected language audio (1)\"\n",
        "\n",
        "# Correct input folder paths with proper names\n",
        "input_folders = {\n",
        "    f\"{base_folder}/selected eng_audio\": \"en\",\n",
        "    f\"{base_folder}/selected hindi_audio\": \"hi\",\n",
        "    f\"{base_folder}/selected mandarin_chinese_audio\": \"zh\"\n",
        "}\n",
        "\n",
        "\n",
        "output_folders = {\n",
        "    f\"{base_folder}/selected eng_audio\": f\"{base_folder}/Transcriptions/english_transcriptions\",\n",
        "    f\"{base_folder}/selected hindi_audio\": f\"{base_folder}/Transcriptions/hindi_transcriptions\",\n",
        "    f\"{base_folder}/selected mandarin_chinese_audio\": f\"{base_folder}/Transcriptions/chinese_transcriptions\"\n",
        "}\n"
      ],
      "metadata": {
        "id": "GetBihBzeEOt"
      },
      "execution_count": null,
      "outputs": []
    },
    {
      "cell_type": "code",
      "source": [
        "\n",
        "transcription_base = os.path.join(base_folder, \"transcriptions\")\n",
        "os.makedirs(transcription_base, exist_ok=True)\n",
        "\n",
        "for lang_folder, lang_code in input_folders.items():\n",
        "    input_path = os.path.join(base_folder, lang_folder)\n",
        "    output_path = os.path.join(transcription_base, output_folders[lang_folder])\n",
        "    os.makedirs(output_path, exist_ok=True)\n",
        "\n",
        "    print(f\"\\nProcessing {lang_folder} ({lang_code}) ...\")\n",
        "\n",
        "\n",
        "    audio_files = sorted([f for f in os.listdir(input_path) if f.endswith(\".wav\")])\n",
        "\n",
        "    for audio_file in audio_files:\n",
        "        audio_path = os.path.join(input_path, audio_file)\n",
        "        transcript_file = os.path.join(output_path, f\"{audio_file[:-4]}.txt\")\n",
        "\n",
        "        print(f\"Transcribing: {audio_file} ...\")\n",
        "        result = model.transcribe(audio_path, language=lang_code)\n",
        "\n",
        "\n",
        "        with open(transcript_file, \"w\", encoding=\"utf-8\") as f:\n",
        "            f.write(result[\"text\"])\n",
        "\n",
        "    print(f\"Transcriptions saved in {output_path} ✅\")\n",
        "\n",
        "print(\"\\nAll transcriptions completed successfully! 🚀\")\n"
      ],
      "metadata": {
        "id": "EzLcdXjNeq-l"
      },
      "execution_count": null,
      "outputs": []
    },
    {
      "cell_type": "code",
      "source": [
        "import os\n",
        "os.listdir('/content/drive/MyDrive/')\n"
      ],
      "metadata": {
        "id": "BA9DgWd_inBq"
      },
      "execution_count": null,
      "outputs": []
    },
    {
      "cell_type": "code",
      "source": [
        "os.listdir('/content/drive/MyDrive/selected language audio (1)/')\n"
      ],
      "metadata": {
        "id": "lUiYTnUgjkZc"
      },
      "execution_count": null,
      "outputs": []
    },
    {
      "cell_type": "code",
      "source": [
        "input_path = \"/content/drive/MyDrive/selected language audio (1)/selected mandarin_chinese_audio\"\n",
        "output_path = \"/content/drive/MyDrive/selected language audio (1)/Transcriptions/chinese_transcriptions\"\n",
        "\n",
        "os.makedirs(output_path, exist_ok=True)\n",
        "\n",
        "print(\"\\nProcessing Chinese audio ...\")\n",
        "\n",
        "audio_files = sorted([f for f in os.listdir(input_path) if f.endswith(\".wav\")])\n",
        "\n",
        "for audio_file in audio_files:\n",
        "    audio_path = os.path.join(input_path, audio_file)\n",
        "    transcript_file = os.path.join(output_path, f\"{audio_file[:-4]}.txt\")\n",
        "\n",
        "    print(f\"Transcribing: {audio_file} ...\")\n",
        "    result = model.transcribe(audio_path, language=\"zh\")\n",
        "\n",
        "    with open(transcript_file, \"w\", encoding=\"utf-8\") as f:\n",
        "        f.write(result[\"text\"])\n",
        "\n",
        "print(f\"Transcriptions saved in {output_path} ✅\")\n",
        "\n",
        "print(\"\\nChinese transcriptions completed successfully! 🚀\")\n"
      ],
      "metadata": {
        "id": "OcPCkx9EmqKS"
      },
      "execution_count": null,
      "outputs": []
    }
  ]
}